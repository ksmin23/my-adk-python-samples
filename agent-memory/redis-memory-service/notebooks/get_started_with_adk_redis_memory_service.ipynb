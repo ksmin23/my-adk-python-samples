{
 "cells": [
  {
   "cell_type": "markdown",
   "id": "6e0065d6",
   "metadata": {},
   "source": [
    "## Get started with ADK Redis Memory Service"
   ]
  },
  {
   "cell_type": "markdown",
   "id": "ef9f1969",
   "metadata": {},
   "source": [
    "#### Set Google Cloud project information"
   ]
  },
  {
   "cell_type": "code",
   "execution_count": null,
   "id": "b63e8caf",
   "metadata": {},
   "outputs": [],
   "source": [
    "PROJECT_ID = !gcloud config get-value project\n",
    "PROJECT_ID = PROJECT_ID[0]\n",
    "\n",
    "LOCATION = !gcloud config get-value compute/region\n",
    "LOCATION = LOCATION[0]\n",
    "\n",
    "PROJECT_ID, LOCATION"
   ]
  },
  {
   "cell_type": "markdown",
   "id": "c73edc28",
   "metadata": {},
   "source": [
    "#### Set environment variables required for ADK"
   ]
  },
  {
   "cell_type": "code",
   "execution_count": null,
   "id": "9f8b01ca",
   "metadata": {},
   "outputs": [],
   "source": [
    "import os\n",
    "\n",
    "os.environ[\"GOOGLE_GENAI_USE_VERTEXAI\"] = \"TRUE\"\n",
    "os.environ[\"GOOGLE_CLOUD_PROJECT\"] = PROJECT_ID\n",
    "os.environ[\"GOOGLE_CLOUD_LOCATION\"] = LOCATION"
   ]
  },
  {
   "cell_type": "markdown",
   "id": "a5ed4804",
   "metadata": {},
   "source": [
    "#### Define a simple agent\n",
    "\n",
    "The ADK Runner defines what session service is used by the agent. The session service is responsible for saving the conversation history.\n",
    "\n",
    "In this example, we're using the `redis` (or `valkey`)  session service (`RedisSessionService`)."
   ]
  },
  {
   "cell_type": "code",
   "execution_count": null,
   "id": "6f61f741",
   "metadata": {},
   "outputs": [],
   "source": [
    "from google.adk.agents import Agent\n",
    "from google.adk.runners import Runner\n",
    "from google.adk.sessions import InMemorySessionService\n",
    "from google.genai.types import Content, Part\n",
    "\n",
    "APP_NAME = \"redis_memory_service\"\n",
    "MODEL = \"gemini-2.5-flash\"\n",
    "\n",
    "agent = Agent(\n",
    "    model=MODEL,\n",
    "    name=\"Generic_QA_Agent\",\n",
    "    instruction=\"Answer the user's questions\",\n",
    ")"
   ]
  },
  {
   "cell_type": "markdown",
   "id": "0b956111",
   "metadata": {},
   "source": [
    "#### Helpers"
   ]
  },
  {
   "cell_type": "code",
   "execution_count": null,
   "id": "9c6c9e38",
   "metadata": {},
   "outputs": [],
   "source": [
    "from typing import (\n",
    "  Any,\n",
    "  Dict\n",
    ")\n",
    "\n",
    "\n",
    "async def call_agent_async(\n",
    "  runner: Runner,\n",
    "  user_id: str,\n",
    "  session_id: str,\n",
    "  prompt: str\n",
    ") -> Dict[str, Any]:\n",
    "  \"\"\"Call agent asynchronously and return response with token usage.\"\"\"\n",
    "\n",
    "  response_parts = []\n",
    "  token_usage = {\n",
    "      \"prompt_token_count\": 0,\n",
    "      \"candidates_token_count\": 0,\n",
    "      \"cached_content_token_count\": 0,\n",
    "      \"total_token_count\": 0,\n",
    "  }\n",
    "\n",
    "  async for event in runner.run_async(\n",
    "      user_id=user_id,\n",
    "      session_id=session_id,\n",
    "      new_message=Content(parts=[Part(text=prompt)], role=\"user\"),\n",
    "  ):\n",
    "    if event.content and event.content.parts:\n",
    "      for part in event.content.parts:\n",
    "        if hasattr(part, \"text\") and part.text:\n",
    "          response_parts.append(part.text)\n",
    "\n",
    "    # Collect token usage information\n",
    "    if event.usage_metadata:\n",
    "      if (\n",
    "          hasattr(event.usage_metadata, \"prompt_token_count\")\n",
    "          and event.usage_metadata.prompt_token_count\n",
    "      ):\n",
    "        token_usage[\n",
    "            \"prompt_token_count\"\n",
    "        ] += event.usage_metadata.prompt_token_count\n",
    "      if (\n",
    "          hasattr(event.usage_metadata, \"candidates_token_count\")\n",
    "          and event.usage_metadata.candidates_token_count\n",
    "      ):\n",
    "        token_usage[\n",
    "            \"candidates_token_count\"\n",
    "        ] += event.usage_metadata.candidates_token_count\n",
    "      if (\n",
    "          hasattr(event.usage_metadata, \"cached_content_token_count\")\n",
    "          and event.usage_metadata.cached_content_token_count\n",
    "      ):\n",
    "        token_usage[\n",
    "            \"cached_content_token_count\"\n",
    "        ] += event.usage_metadata.cached_content_token_count\n",
    "      if (\n",
    "          hasattr(event.usage_metadata, \"total_token_count\")\n",
    "          and event.usage_metadata.total_token_count\n",
    "      ):\n",
    "        token_usage[\n",
    "            \"total_token_count\"\n",
    "        ] += event.usage_metadata.total_token_count\n",
    "\n",
    "  response_text = \"\".join(response_parts)\n",
    "\n",
    "  return {\"response_text\": response_text, \"token_usage\": token_usage}"
   ]
  },
  {
   "cell_type": "markdown",
   "id": "89907e4f",
   "metadata": {},
   "source": [
    "### Create a Session and Store a Simple Conversation"
   ]
  },
  {
   "cell_type": "code",
   "execution_count": null,
   "id": "801265d4",
   "metadata": {},
   "outputs": [],
   "source": [
    "session_service = InMemorySessionService()"
   ]
  },
  {
   "cell_type": "markdown",
   "id": "60900e68",
   "metadata": {},
   "source": [
    "### Generating Memories"
   ]
  },
  {
   "cell_type": "code",
   "execution_count": null,
   "id": "b7cb93fb",
   "metadata": {},
   "outputs": [],
   "source": [
    "USER_ID = 'user'\n",
    "\n",
    "chat_session = await session_service.create_session(\n",
    "    app_name=APP_NAME,\n",
    "    user_id=USER_ID\n",
    ")"
   ]
  },
  {
   "cell_type": "code",
   "execution_count": null,
   "id": "c64a47d9",
   "metadata": {},
   "outputs": [],
   "source": [
    "runner = Runner(agent=agent, app_name=APP_NAME, session_service=session_service)"
   ]
  },
  {
   "cell_type": "code",
   "execution_count": null,
   "id": "45090f62",
   "metadata": {},
   "outputs": [],
   "source": [
    "agent_response = await call_agent_async(\n",
    "    runner,\n",
    "    prompt=\"what types of questions do you answer\",\n",
    "    session_id=chat_session.id,\n",
    "    user_id=USER_ID\n",
    ")"
   ]
  },
  {
   "cell_type": "code",
   "execution_count": null,
   "id": "418692e3",
   "metadata": {},
   "outputs": [],
   "source": [
    "chat_session = await session_service.get_session(\n",
    "    app_name=APP_NAME, user_id=USER_ID, session_id=chat_session.id\n",
    ")"
   ]
  },
  {
   "cell_type": "code",
   "execution_count": null,
   "id": "962adaba",
   "metadata": {},
   "outputs": [],
   "source": [
    "recommendations_session = await session_service.create_session(\n",
    "    app_name=APP_NAME, user_id=USER_ID\n",
    ")\n",
    "\n",
    "await call_agent_async(\n",
    "    runner,\n",
    "    prompt=\"I have a three year old niece. What recommendations do you have for birthday presents?\",\n",
    "    session_id=recommendations_session.id,\n",
    "    user_id=USER_ID,\n",
    ")\n",
    "await call_agent_async(\n",
    "    runner,\n",
    "    prompt=\"I like the idea of a bike. Are there any age appropriate options?\",\n",
    "    session_id=recommendations_session.id,\n",
    "    user_id=USER_ID,\n",
    ")\n",
    "\n",
    "recommendations_session = await session_service.get_session(\n",
    "    app_name=APP_NAME, user_id=USER_ID, session_id=recommendations_session.id\n",
    ")"
   ]
  },
  {
   "cell_type": "markdown",
   "id": "5f5dd930",
   "metadata": {},
   "source": [
    "### RedisMemoryService"
   ]
  },
  {
   "cell_type": "code",
   "execution_count": null,
   "id": "6f161603",
   "metadata": {},
   "outputs": [],
   "source": [
    "import sys\n",
    "import os\n",
    "\n",
    "project_root = os.path.abspath(os.path.join(os.getcwd(), '..'))\n",
    "if project_root not in sys.path:\n",
    "   sys.path.insert(0, project_root)\n",
    "\n",
    "from redis_memory_service.lib.redis_memory_service import RedisMemoryService"
   ]
  },
  {
   "cell_type": "code",
   "execution_count": null,
   "id": "2b583e38",
   "metadata": {},
   "outputs": [],
   "source": [
    "redis_memory_service = RedisMemoryService(\n",
    "    uri=\"redis://localhost:6379\",\n",
    "    index_name=\"adk_app_memory\",\n",
    "    embedding_model_name= \"gemini-embedding-001\",\n",
    ")"
   ]
  },
  {
   "cell_type": "code",
   "execution_count": null,
   "id": "4b44cbde",
   "metadata": {},
   "outputs": [],
   "source": [
    "await redis_memory_service.add_session_to_memory(chat_session)\n",
    "await redis_memory_service.add_session_to_memory(recommendations_session)"
   ]
  },
  {
   "cell_type": "code",
   "execution_count": null,
   "id": "dcbe65dc",
   "metadata": {},
   "outputs": [],
   "source": [
    "APP_NAME = 'redis_memory_service'\n",
    "USER_ID = 'user'\n",
    "\n",
    "response = await redis_memory_service.search_memory(\n",
    "    app_name=APP_NAME,\n",
    "    user_id=USER_ID,\n",
    "    query=\"What was I thinking about getting my niece for Christmas?\"\n",
    ")\n",
    "\n",
    "response"
   ]
  },
  {
   "cell_type": "markdown",
   "id": "04d9d579",
   "metadata": {},
   "source": [
    "#### Inspecting Session Data\n",
    "\n",
    "As you interact with the agent, its session state will be stored in your Redis database. You can inspect this data."
   ]
  },
  {
   "cell_type": "code",
   "execution_count": null,
   "id": "68758394",
   "metadata": {},
   "outputs": [],
   "source": [
    "import redis\n",
    "\n",
    "redis_client = redis.Redis(host='localhost', port=6379, db=0)"
   ]
  },
  {
   "cell_type": "code",
   "execution_count": null,
   "id": "22e80e52",
   "metadata": {},
   "outputs": [],
   "source": [
    "modules = redis_client.module_list()\n",
    "module_name_list = [m[b'name'] for m in modules]\n",
    "if b'search' in module_name_list:\n",
    "    print(\"RediSearch module is loaded.\")\n",
    "else:\n",
    "    print(\"RediSearch module is not loaded. Please ensure it's enabled in your Redis configuration.\")"
   ]
  },
  {
   "cell_type": "code",
   "execution_count": null,
   "id": "372a151a",
   "metadata": {},
   "outputs": [],
   "source": [
    "indexes = redis_client.execute_command(\"FT._LIST\")\n",
    "\n",
    "if indexes:\n",
    "    print(\"Redis Vector Indexes:\")\n",
    "    for index_name in indexes:\n",
    "        print(f\"- {index_name.decode('utf-8')}\")\n",
    "        # Optional\n",
    "        info = redis_client.execute_command(\"FT.INFO\", index_name)\n",
    "        print(f\"  Info: {info}\")\n",
    "else:\n",
    "    print(\"No Redis vector indexes found.\")"
   ]
  }
 ],
 "metadata": {
  "kernelspec": {
   "display_name": "my-adk-python-samples",
   "language": "python",
   "name": "python3"
  },
  "language_info": {
   "codemirror_mode": {
    "name": "ipython",
    "version": 3
   },
   "file_extension": ".py",
   "mimetype": "text/x-python",
   "name": "python",
   "nbconvert_exporter": "python",
   "pygments_lexer": "ipython3",
   "version": "3.13.5"
  }
 },
 "nbformat": 4,
 "nbformat_minor": 5
}
